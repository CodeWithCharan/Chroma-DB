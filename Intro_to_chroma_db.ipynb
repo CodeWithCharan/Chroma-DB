{
 "cells": [
  {
   "cell_type": "markdown",
   "metadata": {},
   "source": [
    "# **Vector Database (VectorDB)**\n",
    "\n",
    "A Vector Database (VectorDB) is a specialized database designed to store, index, and query high-dimensional vectors, which are mathematical representations of data such as text, images, or audio. It is commonly used in applications like semantic search, recommendation systems, and natural language processing, where similarity between data points is crucial. VectorDBs efficiently handle operations like nearest neighbor search using advanced indexing techniques, making them ideal for large-scale machine learning and AI tasks.\n",
    "\n",
    "**Different VectorDBs:**\n",
    "- **ChromaDB**: Lightweight and good for local projects.\n",
    "- **Pinecone**: Great for managed, scalable solutions.\n",
    "- **FAISS (Facebook AI Similarity Search)**: Efficient similarity search and clustering of dense vectors. \n",
    "- **Milvus**: Ideal for open-source, large-scale AI applications."
   ]
  },
  {
   "cell_type": "markdown",
   "metadata": {},
   "source": [
    "# **Introduction to ChromaDB**\n",
    "\n",
    "<img src=\"Images/trychroma.png\">\n",
    "\n",
    "**credits:** https://www.trychroma.com/\n",
    "\n",
    "---\n",
    "\n",
    "<img src=\"Images/chromadb_img.png\">\n",
    "\n",
    "**credits:** [GitHub repository](https://github.com/bansalkanav/Generative-AI-Scratch-2-Advance-By-ThatAIGuy/blob/main/6.%20Building%20Apps%20Powered%20by%20GenAI%20using%20LangChain/1.%20Introduction%20to%20LangChain/7.%20VectorDB%20-%20ChromaDB/intro_to_chromadb.ipynb)"
   ]
  },
  {
   "cell_type": "markdown",
   "metadata": {},
   "source": [
    "### **What is ChromaDB?**\n",
    "\n",
    "ChromaDB is the open-source vector database, specially designed for AI applications.\n",
    "\n",
    "### **Features**\n",
    "1. **Has everything we need for retrieval**\n",
    "    - Store document embedding and their metadata\n",
    "    - Search Embeddings\n",
    "    - Full-tect Search\n",
    "    - Metadata filtering\n",
    "    - Multi-modal retrieval\n",
    "2. **Free and Open source**\n",
    "3. **Integrations** \n",
    "    - Works with HuggingFace, OpenAI, Google, LangChain and more.\n",
    "4. **Simple to Get Started**\n",
    "    - ```pip install chromadb```"
   ]
  },
  {
   "cell_type": "code",
   "execution_count": 1,
   "metadata": {},
   "outputs": [
    {
     "name": "stdout",
     "output_type": "stream",
     "text": [
      "Name: chromadb\n",
      "Version: 0.4.24\n",
      "Summary: Chroma.\n",
      "Home-page: https://github.com/chroma-core/chroma\n",
      "Author: \n",
      "Author-email: Jeff Huber <jeff@trychroma.com>, Anton Troynikov <anton@trychroma.com>\n",
      "License: \n",
      "Location: c:\\users\\91889\\anaconda3\\envs\\geminienv\\lib\\site-packages\n",
      "Requires: bcrypt, build, chroma-hnswlib, fastapi, grpcio, importlib-resources, kubernetes, mmh3, numpy, onnxruntime, opentelemetry-api, opentelemetry-exporter-otlp-proto-grpc, opentelemetry-instrumentation-fastapi, opentelemetry-sdk, orjson, overrides, posthog, pulsar-client, pydantic, pypika, PyYAML, requests, tenacity, tokenizers, tqdm, typer, typing-extensions, uvicorn\n",
      "Required-by: crewai-tools, embedchain\n"
     ]
    }
   ],
   "source": [
    "!pip show chromadb"
   ]
  },
  {
   "cell_type": "code",
   "execution_count": 2,
   "metadata": {},
   "outputs": [],
   "source": [
    "import chromadb\n",
    "\n",
    "client = chromadb.PersistentClient(path=\"vector_store\")"
   ]
  },
  {
   "cell_type": "code",
   "execution_count": 3,
   "metadata": {},
   "outputs": [
    {
     "data": {
      "text/plain": [
       "1732970215210755100"
      ]
     },
     "execution_count": 3,
     "metadata": {},
     "output_type": "execute_result"
    }
   ],
   "source": [
    "client.heartbeat()"
   ]
  },
  {
   "cell_type": "code",
   "execution_count": 4,
   "metadata": {},
   "outputs": [],
   "source": [
    "# Warning: Empties and completely resets the database.\n",
    "\n",
    "# client.reset() "
   ]
  },
  {
   "cell_type": "markdown",
   "metadata": {},
   "source": [
    "## **Create a Collection**\n",
    "\n",
    "**Parameters**\n",
    "- **name:** Select a `name` for your collection.\n",
    "- **embedding_function**: By default, Chroma uses the Sentence Transformers `all-MiniLM-L6-v2 model` to create embeddings.\n",
    "- **metadata={\"hnsw:space\": \"cosine\"}**: By default `L2 distance`\n",
    "\n",
    "<img src=\"Images/metadatas.png\">"
   ]
  },
  {
   "cell_type": "code",
   "execution_count": 5,
   "metadata": {},
   "outputs": [],
   "source": [
    "collections = client.create_collection(name=\"my_first_collection\")"
   ]
  },
  {
   "cell_type": "markdown",
   "metadata": {},
   "source": [
    "**Alternative:** You can also use `client.get_or_create_collection()`"
   ]
  },
  {
   "cell_type": "code",
   "execution_count": 6,
   "metadata": {},
   "outputs": [
    {
     "data": {
      "text/plain": [
       "0"
      ]
     },
     "execution_count": 6,
     "metadata": {},
     "output_type": "execute_result"
    }
   ],
   "source": [
    "# returns the number of items in the collection\n",
    "\n",
    "collections.count()"
   ]
  },
  {
   "cell_type": "code",
   "execution_count": 7,
   "metadata": {},
   "outputs": [
    {
     "data": {
      "text/plain": [
       "{'ids': [],\n",
       " 'embeddings': [],\n",
       " 'metadatas': [],\n",
       " 'documents': [],\n",
       " 'uris': None,\n",
       " 'data': None}"
      ]
     },
     "execution_count": 7,
     "metadata": {},
     "output_type": "execute_result"
    }
   ],
   "source": [
    "# returns a list of the first 10 items in the collection\n",
    "\n",
    "collections.peek()"
   ]
  },
  {
   "cell_type": "code",
   "execution_count": 8,
   "metadata": {},
   "outputs": [
    {
     "data": {
      "text/plain": [
       "Collection(name=my_first_collection)"
      ]
     },
     "execution_count": 8,
     "metadata": {},
     "output_type": "execute_result"
    }
   ],
   "source": [
    "collections"
   ]
  },
  {
   "cell_type": "code",
   "execution_count": 9,
   "metadata": {},
   "outputs": [],
   "source": [
    "# Rename the collection\n",
    "\n",
    "collections.modify(name=\"first_collection\")"
   ]
  },
  {
   "cell_type": "code",
   "execution_count": 10,
   "metadata": {},
   "outputs": [
    {
     "data": {
      "text/plain": [
       "Collection(name=first_collection)"
      ]
     },
     "execution_count": 10,
     "metadata": {},
     "output_type": "execute_result"
    }
   ],
   "source": [
    "collections"
   ]
  },
  {
   "cell_type": "markdown",
   "metadata": {},
   "source": [
    "## **Get An Already Existing Collection**"
   ]
  },
  {
   "cell_type": "code",
   "execution_count": 4,
   "metadata": {},
   "outputs": [
    {
     "data": {
      "text/plain": [
       "Collection(name=first_collection)"
      ]
     },
     "execution_count": 4,
     "metadata": {},
     "output_type": "execute_result"
    }
   ],
   "source": [
    "collections = client.get_collection(name=\"first_collection\")\n",
    "\n",
    "collections"
   ]
  },
  {
   "cell_type": "markdown",
   "metadata": {},
   "source": [
    "## **Adding data to Collection**"
   ]
  },
  {
   "cell_type": "code",
   "execution_count": 12,
   "metadata": {},
   "outputs": [
    {
     "name": "stderr",
     "output_type": "stream",
     "text": [
      "C:\\Users\\91889\\.cache\\chroma\\onnx_models\\all-MiniLM-L6-v2\\onnx.tar.gz: 100%|██████████| 79.3M/79.3M [00:24<00:00, 3.33MiB/s]\n"
     ]
    }
   ],
   "source": [
    "collections.add(\n",
    "    documents=[\n",
    "        \"This is my first document\",\n",
    "        \"This is my second document\"\n",
    "    ],\n",
    "    metadatas=[{'key_1': 'abc_1', 'key_2': 'abc_2'}, {'key_1': 'xyz_1', 'key_2': 'xyz_2'}],\n",
    "    ids=['id1', 'id2']\n",
    ")"
   ]
  },
  {
   "cell_type": "code",
   "execution_count": 20,
   "metadata": {},
   "outputs": [],
   "source": [
    "# collections.peek()"
   ]
  },
  {
   "cell_type": "markdown",
   "metadata": {},
   "source": [
    "## **Search Embeddings**"
   ]
  },
  {
   "cell_type": "code",
   "execution_count": 18,
   "metadata": {},
   "outputs": [],
   "source": [
    "result = collections.query(\n",
    "    query_texts = [\"first\"],\n",
    "    n_results = 1\n",
    ")"
   ]
  },
  {
   "cell_type": "code",
   "execution_count": 19,
   "metadata": {},
   "outputs": [
    {
     "data": {
      "text/plain": [
       "{'ids': [['id1']],\n",
       " 'distances': [[1.1781862767622826]],\n",
       " 'metadatas': [[{'key_1': 'abc_1', 'key_2': 'abc_2'}]],\n",
       " 'embeddings': None,\n",
       " 'documents': [['This is my first document']],\n",
       " 'uris': None,\n",
       " 'data': None}"
      ]
     },
     "execution_count": 19,
     "metadata": {},
     "output_type": "execute_result"
    }
   ],
   "source": [
    "result"
   ]
  },
  {
   "cell_type": "code",
   "execution_count": 23,
   "metadata": {},
   "outputs": [
    {
     "data": {
      "text/plain": [
       "{'ids': [['id2']],\n",
       " 'distances': [[1.1943339473992967]],\n",
       " 'metadatas': [[{'key_1': 'xyz_1', 'key_2': 'xyz_2'}]],\n",
       " 'embeddings': None,\n",
       " 'documents': [['This is my second document']],\n",
       " 'uris': None,\n",
       " 'data': None}"
      ]
     },
     "execution_count": 23,
     "metadata": {},
     "output_type": "execute_result"
    }
   ],
   "source": [
    "result = collections.query(\n",
    "    query_texts = [\"second\"],\n",
    "    n_results = 1\n",
    ")\n",
    "\n",
    "result"
   ]
  },
  {
   "cell_type": "code",
   "execution_count": null,
   "metadata": {},
   "outputs": [],
   "source": [
    "# adding a new item to the collection\n",
    "collections.add(\n",
    "    documents=[\"This is a document about pineapple\"],\n",
    "    metadatas=[{'key_1': 'pqrs_1', 'key_2': 'pqrs_2'}],\n",
    "    ids=['id3']\n",
    ")"
   ]
  },
  {
   "cell_type": "code",
   "execution_count": 22,
   "metadata": {},
   "outputs": [
    {
     "data": {
      "text/plain": [
       "{'ids': [['id3']],\n",
       " 'distances': [[1.602426156795167]],\n",
       " 'metadatas': [[{'key_1': 'pqrs_1', 'key_2': 'pqrs_2'}]],\n",
       " 'embeddings': None,\n",
       " 'documents': [['This is a document about pineapple']],\n",
       " 'uris': None,\n",
       " 'data': None}"
      ]
     },
     "execution_count": 22,
     "metadata": {},
     "output_type": "execute_result"
    }
   ],
   "source": [
    "# search for the specific element in the collection\n",
    "result = collections.query(\n",
    "    query_texts=[\"apple\"],\n",
    "    n_results=1\n",
    ")\n",
    "\n",
    "result"
   ]
  },
  {
   "cell_type": "code",
   "execution_count": 1,
   "metadata": {},
   "outputs": [],
   "source": [
    "# collections.peek()"
   ]
  },
  {
   "cell_type": "markdown",
   "metadata": {},
   "source": [
    "## **Updating data in a collection**"
   ]
  },
  {
   "cell_type": "code",
   "execution_count": 12,
   "metadata": {},
   "outputs": [],
   "source": [
    "collections.update(\n",
    "    ids=['id1', 'id2'],\n",
    "    metadatas=[{'doc1_key_1': 'abc_1', 'doc1_key_2': 'abc_2'}, {'doc2_key_1': 'xyz_1', 'doc2_key_2': 'xyz_2'}],\n",
    "    documents=[\n",
    "        \"This is a document about apple\",\n",
    "        \"This is a document about banana\"\n",
    "    ]\n",
    ")"
   ]
  },
  {
   "cell_type": "code",
   "execution_count": 2,
   "metadata": {},
   "outputs": [],
   "source": [
    "# collections.peek()"
   ]
  },
  {
   "cell_type": "markdown",
   "metadata": {},
   "source": [
    "## **Deleting data from a collection**"
   ]
  },
  {
   "cell_type": "code",
   "execution_count": 14,
   "metadata": {},
   "outputs": [],
   "source": [
    "collections.delete(\n",
    "    ids=['id1', 'id2']\n",
    ")"
   ]
  },
  {
   "cell_type": "code",
   "execution_count": 3,
   "metadata": {},
   "outputs": [],
   "source": [
    "# collections.peek()"
   ]
  },
  {
   "cell_type": "code",
   "execution_count": null,
   "metadata": {},
   "outputs": [],
   "source": []
  }
 ],
 "metadata": {
  "kernelspec": {
   "display_name": "geminienv",
   "language": "python",
   "name": "python3"
  },
  "language_info": {
   "codemirror_mode": {
    "name": "ipython",
    "version": 3
   },
   "file_extension": ".py",
   "mimetype": "text/x-python",
   "name": "python",
   "nbconvert_exporter": "python",
   "pygments_lexer": "ipython3",
   "version": "3.10.14"
  }
 },
 "nbformat": 4,
 "nbformat_minor": 4
}
